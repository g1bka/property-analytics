{
 "cells": [
  {
   "cell_type": "markdown",
   "metadata": {
    "collapsed": true,
    "pycharm": {
     "name": "#%% md\n"
    }
   },
   "source": [
    "# Property Analytics"
   ]
  },
  {
   "cell_type": "markdown",
   "source": [
    "[README.md](README.md)"
   ],
   "metadata": {
    "collapsed": false
   }
  },
  {
   "cell_type": "markdown",
   "source": [
    "***\n",
    "\n",
    "## Scope of work\n",
    "- Business context\n",
    "  - Problem statement\n",
    "- Exploratory data analysis\n",
    "- Solution\n",
    "  - Technologies and tools\n",
    "  - Architecture and design\n",
    "  - Implementation\n",
    "    - Setup analytics environment\n",
    "    - Implement Extract features\n",
    "    - Implement Load features\n",
    "    - Implement Transform features\n",
    "  - Analytics\n",
    "    - Cost per visit\n",
    "    - Qualified properties and associated costs\n",
    "    - Conversions and costs of marketing campaigns\n",
    "    - Data model improvements\n",
    "  - Evolution\n",
    "    - Architecture\n",
    "    - Query optimization\n",
    "    - Change management\n",
    "***"
   ],
   "metadata": {
    "collapsed": false
   }
  },
  {
   "cell_type": "markdown",
   "source": [
    "## Business Context\n",
    "In a property business, the following processes are running:\n",
    "- Marketing campaign management\n",
    "- Website visits tracking\n",
    "- Property inventory management\n",
    "- Property events logging\n",
    "\n",
    "Business stakeholders need:\n",
    " - Insights related to:\n",
    "    - Marketing costs per visit\n",
    "    - Qualified properties (i.e. those which passed validation by property visitors) and associated costs\n",
    "    - Conversions and marketing campaign costs\n",
    " - Recommendations on data model improvements"
   ],
   "metadata": {
    "collapsed": false
   }
  },
  {
   "cell_type": "markdown",
   "source": [
    "***"
   ],
   "metadata": {
    "collapsed": false,
    "pycharm": {
     "name": "#%% md\n"
    }
   }
  },
  {
   "cell_type": "markdown",
   "source": [
    "## Exploratory Data Analysis\n",
    "As the first step, let us perform exploratory data analysis (EDA) to get general understanding of the data available,\n",
    " its quality, and basic statistics."
   ],
   "metadata": {
    "collapsed": false,
    "pycharm": {
     "name": "#%% md\n"
    }
   }
  },
  {
   "cell_type": "code",
   "execution_count": 1,
   "outputs": [],
   "source": [
    "import pandas as pd"
   ],
   "metadata": {
    "collapsed": false,
    "pycharm": {
     "name": "#%%\n"
    }
   }
  },
  {
   "cell_type": "code",
   "execution_count": 2,
   "outputs": [],
   "source": [
    "SRC_DATA_PATH = 'src_data'\n",
    "\n",
    "GA_DATA = 'google_analytics'\n",
    "GA_FILENAME = 'ga_sessions_20190106'\n",
    "\n",
    "MARKETING_DATA = 'google_sheets'\n",
    "COSTS_FILENAME = 'manual_marketing_cost_input'\n",
    "\n",
    "CRM_DATA = 'mysql'\n",
    "PROPERTIES_FILENAME = 'properties'\n",
    "PROPERTY_EVENTS_FILENAME = 'property_event_log'\n",
    "\n",
    "SRC_FILE_EXT = 'csv'"
   ],
   "metadata": {
    "collapsed": false,
    "pycharm": {
     "name": "#%%\n"
    }
   }
  },
  {
   "cell_type": "markdown",
   "source": [
    "### Marketing costs"
   ],
   "metadata": {
    "collapsed": false,
    "pycharm": {
     "name": "#%% md\n"
    }
   }
  },
  {
   "cell_type": "code",
   "execution_count": 3,
   "outputs": [
    {
     "data": {
      "text/plain": "(3742, 9)"
     },
     "execution_count": 3,
     "metadata": {},
     "output_type": "execute_result"
    }
   ],
   "source": [
    "marketing_costs = pd.read_csv(f'{SRC_DATA_PATH}/{MARKETING_DATA}/{COSTS_FILENAME}.{SRC_FILE_EXT}')\n",
    "marketing_costs.shape"
   ],
   "metadata": {
    "collapsed": false,
    "pycharm": {
     "name": "#%%\n"
    }
   }
  },
  {
   "cell_type": "code",
   "execution_count": 4,
   "outputs": [
    {
     "data": {
      "text/plain": "       From        To Cost Type   Medium   Source  \\\n0  01.01.19  01.01.19     fixed      SEO      NaN   \n1  01.01.19  01.01.19  variable  display  taboola   \n\n                              Campaign Term  Content       Cost  \n0                                  NaN  NaN      NaN   101.1000  \n1  HD_TB_DE_RH_DT_SLIDER_LOHNT-VERKAUF  NaN      NaN  1741.4912  ",
      "text/html": "<div>\n<style scoped>\n    .dataframe tbody tr th:only-of-type {\n        vertical-align: middle;\n    }\n\n    .dataframe tbody tr th {\n        vertical-align: top;\n    }\n\n    .dataframe thead th {\n        text-align: right;\n    }\n</style>\n<table border=\"1\" class=\"dataframe\">\n  <thead>\n    <tr style=\"text-align: right;\">\n      <th></th>\n      <th>From</th>\n      <th>To</th>\n      <th>Cost Type</th>\n      <th>Medium</th>\n      <th>Source</th>\n      <th>Campaign</th>\n      <th>Term</th>\n      <th>Content</th>\n      <th>Cost</th>\n    </tr>\n  </thead>\n  <tbody>\n    <tr>\n      <th>0</th>\n      <td>01.01.19</td>\n      <td>01.01.19</td>\n      <td>fixed</td>\n      <td>SEO</td>\n      <td>NaN</td>\n      <td>NaN</td>\n      <td>NaN</td>\n      <td>NaN</td>\n      <td>101.1000</td>\n    </tr>\n    <tr>\n      <th>1</th>\n      <td>01.01.19</td>\n      <td>01.01.19</td>\n      <td>variable</td>\n      <td>display</td>\n      <td>taboola</td>\n      <td>HD_TB_DE_RH_DT_SLIDER_LOHNT-VERKAUF</td>\n      <td>NaN</td>\n      <td>NaN</td>\n      <td>1741.4912</td>\n    </tr>\n  </tbody>\n</table>\n</div>"
     },
     "execution_count": 4,
     "metadata": {},
     "output_type": "execute_result"
    }
   ],
   "source": [
    "marketing_costs.head(2)"
   ],
   "metadata": {
    "collapsed": false,
    "pycharm": {
     "name": "#%%\n"
    }
   }
  },
  {
   "cell_type": "code",
   "execution_count": 5,
   "outputs": [
    {
     "data": {
      "text/plain": "            From        To Cost Type   Medium Source Campaign      Term  \\\ncount       3742      3742      3742     3742   3738     3698      3036   \nunique        31        32         2        7     24       77        94   \ntop     30.01.19  31.01.19  variable  display     dv  7132134  23105367   \nfreq         163       169      3736     3165   2981      321       220   \nmean         NaN       NaN       NaN      NaN    NaN      NaN       NaN   \nstd          NaN       NaN       NaN      NaN    NaN      NaN       NaN   \nmin          NaN       NaN       NaN      NaN    NaN      NaN       NaN   \n25%          NaN       NaN       NaN      NaN    NaN      NaN       NaN   \n50%          NaN       NaN       NaN      NaN    NaN      NaN       NaN   \n75%          NaN       NaN       NaN      NaN    NaN      NaN       NaN   \nmax          NaN       NaN       NaN      NaN    NaN      NaN       NaN   \n\n             Content          Cost  \ncount   2.981000e+03   3742.000000  \nunique           NaN           NaN  \ntop              NaN           NaN  \nfreq             NaN           NaN  \nmean    1.561807e+08    562.366575  \nstd     1.549032e+06   2479.806565  \nmin     1.537618e+08      1.100000  \n25%     1.557924e+08     91.437500  \n50%     1.558153e+08    238.180000  \n75%     1.560039e+08    601.785000  \nmax     1.637716e+08  85556.300000  ",
      "text/html": "<div>\n<style scoped>\n    .dataframe tbody tr th:only-of-type {\n        vertical-align: middle;\n    }\n\n    .dataframe tbody tr th {\n        vertical-align: top;\n    }\n\n    .dataframe thead th {\n        text-align: right;\n    }\n</style>\n<table border=\"1\" class=\"dataframe\">\n  <thead>\n    <tr style=\"text-align: right;\">\n      <th></th>\n      <th>From</th>\n      <th>To</th>\n      <th>Cost Type</th>\n      <th>Medium</th>\n      <th>Source</th>\n      <th>Campaign</th>\n      <th>Term</th>\n      <th>Content</th>\n      <th>Cost</th>\n    </tr>\n  </thead>\n  <tbody>\n    <tr>\n      <th>count</th>\n      <td>3742</td>\n      <td>3742</td>\n      <td>3742</td>\n      <td>3742</td>\n      <td>3738</td>\n      <td>3698</td>\n      <td>3036</td>\n      <td>2.981000e+03</td>\n      <td>3742.000000</td>\n    </tr>\n    <tr>\n      <th>unique</th>\n      <td>31</td>\n      <td>32</td>\n      <td>2</td>\n      <td>7</td>\n      <td>24</td>\n      <td>77</td>\n      <td>94</td>\n      <td>NaN</td>\n      <td>NaN</td>\n    </tr>\n    <tr>\n      <th>top</th>\n      <td>30.01.19</td>\n      <td>31.01.19</td>\n      <td>variable</td>\n      <td>display</td>\n      <td>dv</td>\n      <td>7132134</td>\n      <td>23105367</td>\n      <td>NaN</td>\n      <td>NaN</td>\n    </tr>\n    <tr>\n      <th>freq</th>\n      <td>163</td>\n      <td>169</td>\n      <td>3736</td>\n      <td>3165</td>\n      <td>2981</td>\n      <td>321</td>\n      <td>220</td>\n      <td>NaN</td>\n      <td>NaN</td>\n    </tr>\n    <tr>\n      <th>mean</th>\n      <td>NaN</td>\n      <td>NaN</td>\n      <td>NaN</td>\n      <td>NaN</td>\n      <td>NaN</td>\n      <td>NaN</td>\n      <td>NaN</td>\n      <td>1.561807e+08</td>\n      <td>562.366575</td>\n    </tr>\n    <tr>\n      <th>std</th>\n      <td>NaN</td>\n      <td>NaN</td>\n      <td>NaN</td>\n      <td>NaN</td>\n      <td>NaN</td>\n      <td>NaN</td>\n      <td>NaN</td>\n      <td>1.549032e+06</td>\n      <td>2479.806565</td>\n    </tr>\n    <tr>\n      <th>min</th>\n      <td>NaN</td>\n      <td>NaN</td>\n      <td>NaN</td>\n      <td>NaN</td>\n      <td>NaN</td>\n      <td>NaN</td>\n      <td>NaN</td>\n      <td>1.537618e+08</td>\n      <td>1.100000</td>\n    </tr>\n    <tr>\n      <th>25%</th>\n      <td>NaN</td>\n      <td>NaN</td>\n      <td>NaN</td>\n      <td>NaN</td>\n      <td>NaN</td>\n      <td>NaN</td>\n      <td>NaN</td>\n      <td>1.557924e+08</td>\n      <td>91.437500</td>\n    </tr>\n    <tr>\n      <th>50%</th>\n      <td>NaN</td>\n      <td>NaN</td>\n      <td>NaN</td>\n      <td>NaN</td>\n      <td>NaN</td>\n      <td>NaN</td>\n      <td>NaN</td>\n      <td>1.558153e+08</td>\n      <td>238.180000</td>\n    </tr>\n    <tr>\n      <th>75%</th>\n      <td>NaN</td>\n      <td>NaN</td>\n      <td>NaN</td>\n      <td>NaN</td>\n      <td>NaN</td>\n      <td>NaN</td>\n      <td>NaN</td>\n      <td>1.560039e+08</td>\n      <td>601.785000</td>\n    </tr>\n    <tr>\n      <th>max</th>\n      <td>NaN</td>\n      <td>NaN</td>\n      <td>NaN</td>\n      <td>NaN</td>\n      <td>NaN</td>\n      <td>NaN</td>\n      <td>NaN</td>\n      <td>1.637716e+08</td>\n      <td>85556.300000</td>\n    </tr>\n  </tbody>\n</table>\n</div>"
     },
     "execution_count": 5,
     "metadata": {},
     "output_type": "execute_result"
    }
   ],
   "source": [
    "marketing_costs.describe(include = 'all')"
   ],
   "metadata": {
    "collapsed": false,
    "pycharm": {
     "name": "#%%\n"
    }
   }
  },
  {
   "cell_type": "markdown",
   "source": [
    "The Marketing Costs dataset contains information about marketing campaigns along with the dates, type, medium,\n",
    "source, and costs.\n",
    "Marketing campaigns started every day in January 2019, and most of them were running for a period of less than two\n",
    "weeks."
   ],
   "metadata": {
    "collapsed": false,
    "pycharm": {
     "name": "#%% md\n"
    }
   }
  },
  {
   "cell_type": "markdown",
   "source": [
    "### Google Analytics data"
   ],
   "metadata": {
    "collapsed": false,
    "pycharm": {
     "name": "#%% md\n"
    }
   }
  },
  {
   "cell_type": "code",
   "execution_count": 6,
   "outputs": [
    {
     "data": {
      "text/plain": "(15153, 10)"
     },
     "execution_count": 6,
     "metadata": {},
     "output_type": "execute_result"
    }
   ],
   "source": [
    "ga_data = pd.read_csv(f'{SRC_DATA_PATH}/{GA_DATA}/{GA_FILENAME}.{SRC_FILE_EXT}')\n",
    "ga_data.shape"
   ],
   "metadata": {
    "collapsed": false,
    "pycharm": {
     "name": "#%%\n"
    }
   }
  },
  {
   "cell_type": "code",
   "execution_count": 7,
   "outputs": [
    {
     "data": {
      "text/plain": "                                  FILE    VISIT_ID  \\\n0  ga_sessions_180842477_20190106.json  1546766921   \n1  ga_sessions_180842477_20190106.json  1546807837   \n\n  VISIT_START_TIME::TIMESTAMP_TZ      DATE  \\\n0           2019-01-06T09:28:41Z  20190106   \n1           2019-01-06T20:50:37Z  20190106   \n\n                                 TOTALS  \\\n0  {\"hits\":\"1\",\"sessionQualityDim\":\"0\"}   \n1  {\"hits\":\"1\",\"sessionQualityDim\":\"0\"}   \n\n                                      TRAFFIC_SOURCE  \\\n0  {\"adContent\":\"(not set)\",\"adwordsClickInfo\":{}...   \n1  {\"adContent\":\"(not set)\",\"adwordsClickInfo\":{}...   \n\n                                              DEVICE CUSTOM_DIMENSIONS  \\\n0  {\"browser\":\"Safari\",\"browserSize\":\"380x640\",\"b...                []   \n1  {\"browser\":\"Safari\",\"browserSize\":\"1020x670\",\"...                []   \n\n                                                HITS   CLIENT_ID  \n0  [{\"appInfo\":{\"exitScreenName\":\"www.homeday.de/...  1374893137  \n1  [{\"appInfo\":{\"exitScreenName\":\"www.homeday.de/...  2051673004  ",
      "text/html": "<div>\n<style scoped>\n    .dataframe tbody tr th:only-of-type {\n        vertical-align: middle;\n    }\n\n    .dataframe tbody tr th {\n        vertical-align: top;\n    }\n\n    .dataframe thead th {\n        text-align: right;\n    }\n</style>\n<table border=\"1\" class=\"dataframe\">\n  <thead>\n    <tr style=\"text-align: right;\">\n      <th></th>\n      <th>FILE</th>\n      <th>VISIT_ID</th>\n      <th>VISIT_START_TIME::TIMESTAMP_TZ</th>\n      <th>DATE</th>\n      <th>TOTALS</th>\n      <th>TRAFFIC_SOURCE</th>\n      <th>DEVICE</th>\n      <th>CUSTOM_DIMENSIONS</th>\n      <th>HITS</th>\n      <th>CLIENT_ID</th>\n    </tr>\n  </thead>\n  <tbody>\n    <tr>\n      <th>0</th>\n      <td>ga_sessions_180842477_20190106.json</td>\n      <td>1546766921</td>\n      <td>2019-01-06T09:28:41Z</td>\n      <td>20190106</td>\n      <td>{\"hits\":\"1\",\"sessionQualityDim\":\"0\"}</td>\n      <td>{\"adContent\":\"(not set)\",\"adwordsClickInfo\":{}...</td>\n      <td>{\"browser\":\"Safari\",\"browserSize\":\"380x640\",\"b...</td>\n      <td>[]</td>\n      <td>[{\"appInfo\":{\"exitScreenName\":\"www.homeday.de/...</td>\n      <td>1374893137</td>\n    </tr>\n    <tr>\n      <th>1</th>\n      <td>ga_sessions_180842477_20190106.json</td>\n      <td>1546807837</td>\n      <td>2019-01-06T20:50:37Z</td>\n      <td>20190106</td>\n      <td>{\"hits\":\"1\",\"sessionQualityDim\":\"0\"}</td>\n      <td>{\"adContent\":\"(not set)\",\"adwordsClickInfo\":{}...</td>\n      <td>{\"browser\":\"Safari\",\"browserSize\":\"1020x670\",\"...</td>\n      <td>[]</td>\n      <td>[{\"appInfo\":{\"exitScreenName\":\"www.homeday.de/...</td>\n      <td>2051673004</td>\n    </tr>\n  </tbody>\n</table>\n</div>"
     },
     "execution_count": 7,
     "metadata": {},
     "output_type": "execute_result"
    }
   ],
   "source": [
    "ga_data.head(2)"
   ],
   "metadata": {
    "collapsed": false,
    "pycharm": {
     "name": "#%%\n"
    }
   }
  },
  {
   "cell_type": "code",
   "execution_count": 8,
   "outputs": [
    {
     "data": {
      "text/plain": "                                       FILE      VISIT_ID  \\\ncount                                 15153  1.515300e+04   \nunique                                    1           NaN   \ntop     ga_sessions_180842477_20190106.json           NaN   \nfreq                                  15153           NaN   \nmean                                    NaN  1.546781e+09   \nstd                                     NaN  1.791087e+04   \nmin                                     NaN  1.546728e+09   \n25%                                     NaN  1.546769e+09   \n50%                                     NaN  1.546779e+09   \n75%                                     NaN  1.546794e+09   \nmax                                     NaN  1.546816e+09   \n\n       VISIT_START_TIME::TIMESTAMP_TZ        DATE  \\\ncount                           15153     15153.0   \nunique                          13353         NaN   \ntop              2019-01-06T16:44:26Z         NaN   \nfreq                                6         NaN   \nmean                              NaN  20190106.0   \nstd                               NaN         0.0   \nmin                               NaN  20190106.0   \n25%                               NaN  20190106.0   \n50%                               NaN  20190106.0   \n75%                               NaN  20190106.0   \nmax                               NaN  20190106.0   \n\n                                                   TOTALS  \\\ncount                                               15153   \nunique                                               3569   \ntop     {\"bounces\":\"1\",\"hits\":\"5\",\"newVisits\":\"1\",\"pag...   \nfreq                                                 1978   \nmean                                                  NaN   \nstd                                                   NaN   \nmin                                                   NaN   \n25%                                                   NaN   \n50%                                                   NaN   \n75%                                                   NaN   \nmax                                                   NaN   \n\n                                           TRAFFIC_SOURCE  \\\ncount                                               15153   \nunique                                               1482   \ntop     {\"adContent\":\"(not set)\",\"adwordsClickInfo\":{}...   \nfreq                                                 1795   \nmean                                                  NaN   \nstd                                                   NaN   \nmin                                                   NaN   \n25%                                                   NaN   \n50%                                                   NaN   \n75%                                                   NaN   \nmax                                                   NaN   \n\n                                                   DEVICE CUSTOM_DIMENSIONS  \\\ncount                                               15153             15153   \nunique                                               7182               839   \ntop     {\"browser\":\"Safari\",\"browserSize\":\"380x550\",\"b...                []   \nfreq                                                  303              3990   \nmean                                                  NaN               NaN   \nstd                                                   NaN               NaN   \nmin                                                   NaN               NaN   \n25%                                                   NaN               NaN   \n50%                                                   NaN               NaN   \n75%                                                   NaN               NaN   \nmax                                                   NaN               NaN   \n\n                                                     HITS     CLIENT_ID  \ncount                                               15153  1.515300e+04  \nunique                                              14695           NaN  \ntop     [{\"appInfo\":{\"exitScreenName\":\"www.homeday.de/...           NaN  \nfreq                                                    6           NaN  \nmean                                                  NaN  1.081214e+09  \nstd                                                   NaN  6.226834e+08  \nmin                                                   NaN  2.443160e+05  \n25%                                                   NaN  5.435725e+08  \n50%                                                   NaN  1.092500e+09  \n75%                                                   NaN  1.618156e+09  \nmax                                                   NaN  2.147109e+09  ",
      "text/html": "<div>\n<style scoped>\n    .dataframe tbody tr th:only-of-type {\n        vertical-align: middle;\n    }\n\n    .dataframe tbody tr th {\n        vertical-align: top;\n    }\n\n    .dataframe thead th {\n        text-align: right;\n    }\n</style>\n<table border=\"1\" class=\"dataframe\">\n  <thead>\n    <tr style=\"text-align: right;\">\n      <th></th>\n      <th>FILE</th>\n      <th>VISIT_ID</th>\n      <th>VISIT_START_TIME::TIMESTAMP_TZ</th>\n      <th>DATE</th>\n      <th>TOTALS</th>\n      <th>TRAFFIC_SOURCE</th>\n      <th>DEVICE</th>\n      <th>CUSTOM_DIMENSIONS</th>\n      <th>HITS</th>\n      <th>CLIENT_ID</th>\n    </tr>\n  </thead>\n  <tbody>\n    <tr>\n      <th>count</th>\n      <td>15153</td>\n      <td>1.515300e+04</td>\n      <td>15153</td>\n      <td>15153.0</td>\n      <td>15153</td>\n      <td>15153</td>\n      <td>15153</td>\n      <td>15153</td>\n      <td>15153</td>\n      <td>1.515300e+04</td>\n    </tr>\n    <tr>\n      <th>unique</th>\n      <td>1</td>\n      <td>NaN</td>\n      <td>13353</td>\n      <td>NaN</td>\n      <td>3569</td>\n      <td>1482</td>\n      <td>7182</td>\n      <td>839</td>\n      <td>14695</td>\n      <td>NaN</td>\n    </tr>\n    <tr>\n      <th>top</th>\n      <td>ga_sessions_180842477_20190106.json</td>\n      <td>NaN</td>\n      <td>2019-01-06T16:44:26Z</td>\n      <td>NaN</td>\n      <td>{\"bounces\":\"1\",\"hits\":\"5\",\"newVisits\":\"1\",\"pag...</td>\n      <td>{\"adContent\":\"(not set)\",\"adwordsClickInfo\":{}...</td>\n      <td>{\"browser\":\"Safari\",\"browserSize\":\"380x550\",\"b...</td>\n      <td>[]</td>\n      <td>[{\"appInfo\":{\"exitScreenName\":\"www.homeday.de/...</td>\n      <td>NaN</td>\n    </tr>\n    <tr>\n      <th>freq</th>\n      <td>15153</td>\n      <td>NaN</td>\n      <td>6</td>\n      <td>NaN</td>\n      <td>1978</td>\n      <td>1795</td>\n      <td>303</td>\n      <td>3990</td>\n      <td>6</td>\n      <td>NaN</td>\n    </tr>\n    <tr>\n      <th>mean</th>\n      <td>NaN</td>\n      <td>1.546781e+09</td>\n      <td>NaN</td>\n      <td>20190106.0</td>\n      <td>NaN</td>\n      <td>NaN</td>\n      <td>NaN</td>\n      <td>NaN</td>\n      <td>NaN</td>\n      <td>1.081214e+09</td>\n    </tr>\n    <tr>\n      <th>std</th>\n      <td>NaN</td>\n      <td>1.791087e+04</td>\n      <td>NaN</td>\n      <td>0.0</td>\n      <td>NaN</td>\n      <td>NaN</td>\n      <td>NaN</td>\n      <td>NaN</td>\n      <td>NaN</td>\n      <td>6.226834e+08</td>\n    </tr>\n    <tr>\n      <th>min</th>\n      <td>NaN</td>\n      <td>1.546728e+09</td>\n      <td>NaN</td>\n      <td>20190106.0</td>\n      <td>NaN</td>\n      <td>NaN</td>\n      <td>NaN</td>\n      <td>NaN</td>\n      <td>NaN</td>\n      <td>2.443160e+05</td>\n    </tr>\n    <tr>\n      <th>25%</th>\n      <td>NaN</td>\n      <td>1.546769e+09</td>\n      <td>NaN</td>\n      <td>20190106.0</td>\n      <td>NaN</td>\n      <td>NaN</td>\n      <td>NaN</td>\n      <td>NaN</td>\n      <td>NaN</td>\n      <td>5.435725e+08</td>\n    </tr>\n    <tr>\n      <th>50%</th>\n      <td>NaN</td>\n      <td>1.546779e+09</td>\n      <td>NaN</td>\n      <td>20190106.0</td>\n      <td>NaN</td>\n      <td>NaN</td>\n      <td>NaN</td>\n      <td>NaN</td>\n      <td>NaN</td>\n      <td>1.092500e+09</td>\n    </tr>\n    <tr>\n      <th>75%</th>\n      <td>NaN</td>\n      <td>1.546794e+09</td>\n      <td>NaN</td>\n      <td>20190106.0</td>\n      <td>NaN</td>\n      <td>NaN</td>\n      <td>NaN</td>\n      <td>NaN</td>\n      <td>NaN</td>\n      <td>1.618156e+09</td>\n    </tr>\n    <tr>\n      <th>max</th>\n      <td>NaN</td>\n      <td>1.546816e+09</td>\n      <td>NaN</td>\n      <td>20190106.0</td>\n      <td>NaN</td>\n      <td>NaN</td>\n      <td>NaN</td>\n      <td>NaN</td>\n      <td>NaN</td>\n      <td>2.147109e+09</td>\n    </tr>\n  </tbody>\n</table>\n</div>"
     },
     "execution_count": 8,
     "metadata": {},
     "output_type": "execute_result"
    }
   ],
   "source": [
    "ga_data.describe(include = 'all')"
   ],
   "metadata": {
    "collapsed": false,
    "pycharm": {
     "name": "#%%\n"
    }
   }
  },
  {
   "cell_type": "markdown",
   "source": [
    "Dataset exported from Google Analytics contains data about site visits on 2019-01-06. Each visit is\n",
    "marked with a unique timestamp, `visit_id`, and semi-structured data on totals, traffic sources, devices, and hits.\n",
    "For each visit, the dataset also provides `client_id` (not unique)."
   ],
   "metadata": {
    "collapsed": false
   }
  },
  {
   "cell_type": "markdown",
   "source": [
    "### Properties inventory"
   ],
   "metadata": {
    "collapsed": false,
    "pycharm": {
     "name": "#%% md\n"
    }
   }
  },
  {
   "cell_type": "code",
   "execution_count": 9,
   "outputs": [
    {
     "data": {
      "text/plain": "(446, 22)"
     },
     "execution_count": 9,
     "metadata": {},
     "output_type": "execute_result"
    }
   ],
   "source": [
    "properties = pd.read_csv(f'{SRC_DATA_PATH}/{CRM_DATA}/{PROPERTIES_FILENAME}.{SRC_FILE_EXT}')\n",
    "properties.shape"
   ],
   "metadata": {
    "collapsed": false,
    "pycharm": {
     "name": "#%%\n"
    }
   }
  },
  {
   "cell_type": "code",
   "execution_count": 10,
   "outputs": [
    {
     "data": {
      "text/plain": "       ID  ZIP_CODE APARTMENT_TYPE  LIVING_SPACE    CITY  \\\n0  268541   86836.0            NaN         125.0  Graben   \n1  268545   53819.0      apartment          55.0      Lo   \n\n                      CREATED_AT       UID                     UPDATED_AT  \\\n0  2019-01-09 01:15:19.000 +0000  I0VOLDR7  2019-06-11 16:51:50.000 +0000   \n1  2019-01-09 05:20:36.000 +0000  NYDZUIOF  2019-07-25 03:11:01.000 +0000   \n\n  CONSIDERS_TO_SELL SLIDER_TYPE  ...             STAGE COUNTRY UTM_MEDIUM  \\\n0              asap        sale  ...              lost      DE    display   \n1         not_owner   valuation  ...  property_contact      DE        NaN   \n\n  MARKETING_TYPE LOSS_REASON_ID ADMIN_USER_ID  \\\n0           sell           26.0         139.0   \n1           sell            NaN           NaN   \n\n                          UTM_CAMPAIGN  UTM_SOURCE       BUILDING_TYPE  \\\n0  HD_PL_DE_RH_DT_SLIDER_LOHNT-VERKAUF      plista  semidetached_house   \n1                                  NaN         NaN                 NaN   \n\n                                        LANDING_PAGE  \n0     https://www.homeday.de/de/di/immobilienverkauf  \n1  www.homeday.de/de/preisatlas/lohmar/siegburger...  \n\n[2 rows x 22 columns]",
      "text/html": "<div>\n<style scoped>\n    .dataframe tbody tr th:only-of-type {\n        vertical-align: middle;\n    }\n\n    .dataframe tbody tr th {\n        vertical-align: top;\n    }\n\n    .dataframe thead th {\n        text-align: right;\n    }\n</style>\n<table border=\"1\" class=\"dataframe\">\n  <thead>\n    <tr style=\"text-align: right;\">\n      <th></th>\n      <th>ID</th>\n      <th>ZIP_CODE</th>\n      <th>APARTMENT_TYPE</th>\n      <th>LIVING_SPACE</th>\n      <th>CITY</th>\n      <th>CREATED_AT</th>\n      <th>UID</th>\n      <th>UPDATED_AT</th>\n      <th>CONSIDERS_TO_SELL</th>\n      <th>SLIDER_TYPE</th>\n      <th>...</th>\n      <th>STAGE</th>\n      <th>COUNTRY</th>\n      <th>UTM_MEDIUM</th>\n      <th>MARKETING_TYPE</th>\n      <th>LOSS_REASON_ID</th>\n      <th>ADMIN_USER_ID</th>\n      <th>UTM_CAMPAIGN</th>\n      <th>UTM_SOURCE</th>\n      <th>BUILDING_TYPE</th>\n      <th>LANDING_PAGE</th>\n    </tr>\n  </thead>\n  <tbody>\n    <tr>\n      <th>0</th>\n      <td>268541</td>\n      <td>86836.0</td>\n      <td>NaN</td>\n      <td>125.0</td>\n      <td>Graben</td>\n      <td>2019-01-09 01:15:19.000 +0000</td>\n      <td>I0VOLDR7</td>\n      <td>2019-06-11 16:51:50.000 +0000</td>\n      <td>asap</td>\n      <td>sale</td>\n      <td>...</td>\n      <td>lost</td>\n      <td>DE</td>\n      <td>display</td>\n      <td>sell</td>\n      <td>26.0</td>\n      <td>139.0</td>\n      <td>HD_PL_DE_RH_DT_SLIDER_LOHNT-VERKAUF</td>\n      <td>plista</td>\n      <td>semidetached_house</td>\n      <td>https://www.homeday.de/de/di/immobilienverkauf</td>\n    </tr>\n    <tr>\n      <th>1</th>\n      <td>268545</td>\n      <td>53819.0</td>\n      <td>apartment</td>\n      <td>55.0</td>\n      <td>Lo</td>\n      <td>2019-01-09 05:20:36.000 +0000</td>\n      <td>NYDZUIOF</td>\n      <td>2019-07-25 03:11:01.000 +0000</td>\n      <td>not_owner</td>\n      <td>valuation</td>\n      <td>...</td>\n      <td>property_contact</td>\n      <td>DE</td>\n      <td>NaN</td>\n      <td>sell</td>\n      <td>NaN</td>\n      <td>NaN</td>\n      <td>NaN</td>\n      <td>NaN</td>\n      <td>NaN</td>\n      <td>www.homeday.de/de/preisatlas/lohmar/siegburger...</td>\n    </tr>\n  </tbody>\n</table>\n<p>2 rows × 22 columns</p>\n</div>"
     },
     "execution_count": 10,
     "metadata": {},
     "output_type": "execute_result"
    }
   ],
   "source": [
    "properties.head(2)"
   ],
   "metadata": {
    "collapsed": false,
    "pycharm": {
     "name": "#%%\n"
    }
   }
  },
  {
   "cell_type": "code",
   "execution_count": 11,
   "outputs": [
    {
     "data": {
      "text/plain": "                   ID       ZIP_CODE APARTMENT_TYPE  LIVING_SPACE  \\\ncount      446.000000     443.000000            125    413.000000   \nunique            NaN            NaN              4           NaN   \ntop               NaN            NaN      apartment           NaN   \nfreq              NaN            NaN             71           NaN   \nmean    268762.500000   53371.108352            NaN    142.050412   \nstd        128.893367   33574.157927            NaN    100.014269   \nmin     268540.000000      80.000000            NaN      0.000000   \n25%     268651.250000   28517.500000            NaN     85.000000   \n50%     268762.500000   56204.000000            NaN    120.000000   \n75%     268873.750000   75273.500000            NaN    165.000000   \nmax     268985.000000  444629.000000            NaN    850.000000   \n\n                 CITY                     CREATED_AT       UID  \\\ncount             446                            446       446   \nunique            256                            446       446   \ntop     [ask in call]  2019-01-09 01:15:19.000 +0000  I0VOLDR7   \nfreq              134                              1         1   \nmean              NaN                            NaN       NaN   \nstd               NaN                            NaN       NaN   \nmin               NaN                            NaN       NaN   \n25%               NaN                            NaN       NaN   \n50%               NaN                            NaN       NaN   \n75%               NaN                            NaN       NaN   \nmax               NaN                            NaN       NaN   \n\n                           UPDATED_AT CONSIDERS_TO_SELL SLIDER_TYPE  ...  \\\ncount                             446               383         384  ...   \nunique                            346                 8           4  ...   \ntop     2019-08-28 03:05:32.000 +0000                no        sale  ...   \nfreq                                7                87         174  ...   \nmean                              NaN               NaN         NaN  ...   \nstd                               NaN               NaN         NaN  ...   \nmin                               NaN               NaN         NaN  ...   \n25%                               NaN               NaN         NaN  ...   \n50%                               NaN               NaN         NaN  ...   \n75%                               NaN               NaN         NaN  ...   \nmax                               NaN               NaN         NaN  ...   \n\n                   STAGE COUNTRY UTM_MEDIUM MARKETING_TYPE LOSS_REASON_ID  \\\ncount                446     446        421            446     212.000000   \nunique                 7       1          8              2            NaN   \ntop     property_contact      DE    display           sell            NaN   \nfreq                 217     446        169            430            NaN   \nmean                 NaN     NaN        NaN            NaN      29.415094   \nstd                  NaN     NaN        NaN            NaN      12.597576   \nmin                  NaN     NaN        NaN            NaN      23.000000   \n25%                  NaN     NaN        NaN            NaN      24.000000   \n50%                  NaN     NaN        NaN            NaN      26.000000   \n75%                  NaN     NaN        NaN            NaN      29.000000   \nmax                  NaN     NaN        NaN            NaN     103.000000   \n\n       ADMIN_USER_ID  UTM_CAMPAIGN  UTM_SOURCE        BUILDING_TYPE  \\\ncount     248.000000           419         420                  194   \nunique           NaN            88          17                    6   \ntop              NaN      immowelt    immowelt  single_family_house   \nfreq             NaN           110         120                   85   \nmean      114.431452           NaN         NaN                  NaN   \nstd        58.254184           NaN         NaN                  NaN   \nmin         8.000000           NaN         NaN                  NaN   \n25%        89.000000           NaN         NaN                  NaN   \n50%       130.000000           NaN         NaN                  NaN   \n75%       164.000000           NaN         NaN                  NaN   \nmax       287.000000           NaN         NaN                  NaN   \n\n                                  LANDING_PAGE  \ncount                                      364  \nunique                                     113  \ntop     www.homeday.de/de/di/immobilienverkauf  \nfreq                                        96  \nmean                                       NaN  \nstd                                        NaN  \nmin                                        NaN  \n25%                                        NaN  \n50%                                        NaN  \n75%                                        NaN  \nmax                                        NaN  \n\n[11 rows x 22 columns]",
      "text/html": "<div>\n<style scoped>\n    .dataframe tbody tr th:only-of-type {\n        vertical-align: middle;\n    }\n\n    .dataframe tbody tr th {\n        vertical-align: top;\n    }\n\n    .dataframe thead th {\n        text-align: right;\n    }\n</style>\n<table border=\"1\" class=\"dataframe\">\n  <thead>\n    <tr style=\"text-align: right;\">\n      <th></th>\n      <th>ID</th>\n      <th>ZIP_CODE</th>\n      <th>APARTMENT_TYPE</th>\n      <th>LIVING_SPACE</th>\n      <th>CITY</th>\n      <th>CREATED_AT</th>\n      <th>UID</th>\n      <th>UPDATED_AT</th>\n      <th>CONSIDERS_TO_SELL</th>\n      <th>SLIDER_TYPE</th>\n      <th>...</th>\n      <th>STAGE</th>\n      <th>COUNTRY</th>\n      <th>UTM_MEDIUM</th>\n      <th>MARKETING_TYPE</th>\n      <th>LOSS_REASON_ID</th>\n      <th>ADMIN_USER_ID</th>\n      <th>UTM_CAMPAIGN</th>\n      <th>UTM_SOURCE</th>\n      <th>BUILDING_TYPE</th>\n      <th>LANDING_PAGE</th>\n    </tr>\n  </thead>\n  <tbody>\n    <tr>\n      <th>count</th>\n      <td>446.000000</td>\n      <td>443.000000</td>\n      <td>125</td>\n      <td>413.000000</td>\n      <td>446</td>\n      <td>446</td>\n      <td>446</td>\n      <td>446</td>\n      <td>383</td>\n      <td>384</td>\n      <td>...</td>\n      <td>446</td>\n      <td>446</td>\n      <td>421</td>\n      <td>446</td>\n      <td>212.000000</td>\n      <td>248.000000</td>\n      <td>419</td>\n      <td>420</td>\n      <td>194</td>\n      <td>364</td>\n    </tr>\n    <tr>\n      <th>unique</th>\n      <td>NaN</td>\n      <td>NaN</td>\n      <td>4</td>\n      <td>NaN</td>\n      <td>256</td>\n      <td>446</td>\n      <td>446</td>\n      <td>346</td>\n      <td>8</td>\n      <td>4</td>\n      <td>...</td>\n      <td>7</td>\n      <td>1</td>\n      <td>8</td>\n      <td>2</td>\n      <td>NaN</td>\n      <td>NaN</td>\n      <td>88</td>\n      <td>17</td>\n      <td>6</td>\n      <td>113</td>\n    </tr>\n    <tr>\n      <th>top</th>\n      <td>NaN</td>\n      <td>NaN</td>\n      <td>apartment</td>\n      <td>NaN</td>\n      <td>[ask in call]</td>\n      <td>2019-01-09 01:15:19.000 +0000</td>\n      <td>I0VOLDR7</td>\n      <td>2019-08-28 03:05:32.000 +0000</td>\n      <td>no</td>\n      <td>sale</td>\n      <td>...</td>\n      <td>property_contact</td>\n      <td>DE</td>\n      <td>display</td>\n      <td>sell</td>\n      <td>NaN</td>\n      <td>NaN</td>\n      <td>immowelt</td>\n      <td>immowelt</td>\n      <td>single_family_house</td>\n      <td>www.homeday.de/de/di/immobilienverkauf</td>\n    </tr>\n    <tr>\n      <th>freq</th>\n      <td>NaN</td>\n      <td>NaN</td>\n      <td>71</td>\n      <td>NaN</td>\n      <td>134</td>\n      <td>1</td>\n      <td>1</td>\n      <td>7</td>\n      <td>87</td>\n      <td>174</td>\n      <td>...</td>\n      <td>217</td>\n      <td>446</td>\n      <td>169</td>\n      <td>430</td>\n      <td>NaN</td>\n      <td>NaN</td>\n      <td>110</td>\n      <td>120</td>\n      <td>85</td>\n      <td>96</td>\n    </tr>\n    <tr>\n      <th>mean</th>\n      <td>268762.500000</td>\n      <td>53371.108352</td>\n      <td>NaN</td>\n      <td>142.050412</td>\n      <td>NaN</td>\n      <td>NaN</td>\n      <td>NaN</td>\n      <td>NaN</td>\n      <td>NaN</td>\n      <td>NaN</td>\n      <td>...</td>\n      <td>NaN</td>\n      <td>NaN</td>\n      <td>NaN</td>\n      <td>NaN</td>\n      <td>29.415094</td>\n      <td>114.431452</td>\n      <td>NaN</td>\n      <td>NaN</td>\n      <td>NaN</td>\n      <td>NaN</td>\n    </tr>\n    <tr>\n      <th>std</th>\n      <td>128.893367</td>\n      <td>33574.157927</td>\n      <td>NaN</td>\n      <td>100.014269</td>\n      <td>NaN</td>\n      <td>NaN</td>\n      <td>NaN</td>\n      <td>NaN</td>\n      <td>NaN</td>\n      <td>NaN</td>\n      <td>...</td>\n      <td>NaN</td>\n      <td>NaN</td>\n      <td>NaN</td>\n      <td>NaN</td>\n      <td>12.597576</td>\n      <td>58.254184</td>\n      <td>NaN</td>\n      <td>NaN</td>\n      <td>NaN</td>\n      <td>NaN</td>\n    </tr>\n    <tr>\n      <th>min</th>\n      <td>268540.000000</td>\n      <td>80.000000</td>\n      <td>NaN</td>\n      <td>0.000000</td>\n      <td>NaN</td>\n      <td>NaN</td>\n      <td>NaN</td>\n      <td>NaN</td>\n      <td>NaN</td>\n      <td>NaN</td>\n      <td>...</td>\n      <td>NaN</td>\n      <td>NaN</td>\n      <td>NaN</td>\n      <td>NaN</td>\n      <td>23.000000</td>\n      <td>8.000000</td>\n      <td>NaN</td>\n      <td>NaN</td>\n      <td>NaN</td>\n      <td>NaN</td>\n    </tr>\n    <tr>\n      <th>25%</th>\n      <td>268651.250000</td>\n      <td>28517.500000</td>\n      <td>NaN</td>\n      <td>85.000000</td>\n      <td>NaN</td>\n      <td>NaN</td>\n      <td>NaN</td>\n      <td>NaN</td>\n      <td>NaN</td>\n      <td>NaN</td>\n      <td>...</td>\n      <td>NaN</td>\n      <td>NaN</td>\n      <td>NaN</td>\n      <td>NaN</td>\n      <td>24.000000</td>\n      <td>89.000000</td>\n      <td>NaN</td>\n      <td>NaN</td>\n      <td>NaN</td>\n      <td>NaN</td>\n    </tr>\n    <tr>\n      <th>50%</th>\n      <td>268762.500000</td>\n      <td>56204.000000</td>\n      <td>NaN</td>\n      <td>120.000000</td>\n      <td>NaN</td>\n      <td>NaN</td>\n      <td>NaN</td>\n      <td>NaN</td>\n      <td>NaN</td>\n      <td>NaN</td>\n      <td>...</td>\n      <td>NaN</td>\n      <td>NaN</td>\n      <td>NaN</td>\n      <td>NaN</td>\n      <td>26.000000</td>\n      <td>130.000000</td>\n      <td>NaN</td>\n      <td>NaN</td>\n      <td>NaN</td>\n      <td>NaN</td>\n    </tr>\n    <tr>\n      <th>75%</th>\n      <td>268873.750000</td>\n      <td>75273.500000</td>\n      <td>NaN</td>\n      <td>165.000000</td>\n      <td>NaN</td>\n      <td>NaN</td>\n      <td>NaN</td>\n      <td>NaN</td>\n      <td>NaN</td>\n      <td>NaN</td>\n      <td>...</td>\n      <td>NaN</td>\n      <td>NaN</td>\n      <td>NaN</td>\n      <td>NaN</td>\n      <td>29.000000</td>\n      <td>164.000000</td>\n      <td>NaN</td>\n      <td>NaN</td>\n      <td>NaN</td>\n      <td>NaN</td>\n    </tr>\n    <tr>\n      <th>max</th>\n      <td>268985.000000</td>\n      <td>444629.000000</td>\n      <td>NaN</td>\n      <td>850.000000</td>\n      <td>NaN</td>\n      <td>NaN</td>\n      <td>NaN</td>\n      <td>NaN</td>\n      <td>NaN</td>\n      <td>NaN</td>\n      <td>...</td>\n      <td>NaN</td>\n      <td>NaN</td>\n      <td>NaN</td>\n      <td>NaN</td>\n      <td>103.000000</td>\n      <td>287.000000</td>\n      <td>NaN</td>\n      <td>NaN</td>\n      <td>NaN</td>\n      <td>NaN</td>\n    </tr>\n  </tbody>\n</table>\n<p>11 rows × 22 columns</p>\n</div>"
     },
     "execution_count": 11,
     "metadata": {},
     "output_type": "execute_result"
    }
   ],
   "source": [
    "properties.describe(include = 'all')"
   ],
   "metadata": {
    "collapsed": false,
    "pycharm": {
     "name": "#%%\n"
    }
   }
  },
  {
   "cell_type": "markdown",
   "source": [
    "The Properties dataset contains an inventory of converted properties (i.e. those selected by visitors), with\n",
    "a unique `id`, property features, `created_at` and `updated_at` timestamps, and the stage of the sales process."
   ],
   "metadata": {
    "collapsed": false,
    "pycharm": {
     "name": "#%% md\n"
    }
   }
  },
  {
   "cell_type": "markdown",
   "source": [
    "### Property events log"
   ],
   "metadata": {
    "collapsed": false,
    "pycharm": {
     "name": "#%% md\n"
    }
   }
  },
  {
   "cell_type": "code",
   "execution_count": 12,
   "outputs": [
    {
     "data": {
      "text/plain": "(3243, 6)"
     },
     "execution_count": 12,
     "metadata": {},
     "output_type": "execute_result"
    }
   ],
   "source": [
    "property_events = pd.read_csv(f'{SRC_DATA_PATH}/{CRM_DATA}/{PROPERTY_EVENTS_FILENAME}.{SRC_FILE_EXT}')\n",
    "property_events.shape"
   ],
   "metadata": {
    "collapsed": false,
    "pycharm": {
     "name": "#%%\n"
    }
   }
  },
  {
   "cell_type": "code",
   "execution_count": 13,
   "outputs": [
    {
     "data": {
      "text/plain": "        ID                     UPDATED_AT  OBJECT_TYPE  \\\n0  7402455  2019-01-09 10:36:49.000 +0000     Property   \n1  7402458  2019-01-09 10:36:49.000 +0000     Property   \n\n                         ACTION                     CREATED_AT   OBJECT_ID  \n0        PropertyContactCreated  2019-01-09 10:36:49.000 +0000      268646  \n1  PropertyStagePropertyContact  2019-01-09 10:36:49.000 +0000      268646  ",
      "text/html": "<div>\n<style scoped>\n    .dataframe tbody tr th:only-of-type {\n        vertical-align: middle;\n    }\n\n    .dataframe tbody tr th {\n        vertical-align: top;\n    }\n\n    .dataframe thead th {\n        text-align: right;\n    }\n</style>\n<table border=\"1\" class=\"dataframe\">\n  <thead>\n    <tr style=\"text-align: right;\">\n      <th></th>\n      <th>ID</th>\n      <th>UPDATED_AT</th>\n      <th>OBJECT_TYPE</th>\n      <th>ACTION</th>\n      <th>CREATED_AT</th>\n      <th>OBJECT_ID</th>\n    </tr>\n  </thead>\n  <tbody>\n    <tr>\n      <th>0</th>\n      <td>7402455</td>\n      <td>2019-01-09 10:36:49.000 +0000</td>\n      <td>Property</td>\n      <td>PropertyContactCreated</td>\n      <td>2019-01-09 10:36:49.000 +0000</td>\n      <td>268646</td>\n    </tr>\n    <tr>\n      <th>1</th>\n      <td>7402458</td>\n      <td>2019-01-09 10:36:49.000 +0000</td>\n      <td>Property</td>\n      <td>PropertyStagePropertyContact</td>\n      <td>2019-01-09 10:36:49.000 +0000</td>\n      <td>268646</td>\n    </tr>\n  </tbody>\n</table>\n</div>"
     },
     "execution_count": 13,
     "metadata": {},
     "output_type": "execute_result"
    }
   ],
   "source": [
    "property_events.head(2)"
   ],
   "metadata": {
    "collapsed": false,
    "pycharm": {
     "name": "#%%\n"
    }
   }
  },
  {
   "cell_type": "code",
   "execution_count": 14,
   "outputs": [
    {
     "data": {
      "text/plain": "                  ID                     UPDATED_AT  OBJECT_TYPE  ACTION  \\\ncount   3.243000e+03                           3243         3243    3243   \nunique           NaN                           2176            1      39   \ntop              NaN  2019-01-10 17:00:15.000 +0000     Property  Update   \nfreq             NaN                             10         3243     575   \nmean    7.698977e+06                            NaN          NaN     NaN   \nstd     1.329680e+06                            NaN          NaN     NaN   \nmin     7.398236e+06                            NaN          NaN     NaN   \n25%     7.403832e+06                            NaN          NaN     NaN   \n50%     7.409128e+06                            NaN          NaN     NaN   \n75%     7.421546e+06                            NaN          NaN     NaN   \nmax     1.706314e+07                            NaN          NaN     NaN   \n\n                           CREATED_AT      OBJECT_ID  \ncount                            3243    3243.000000  \nunique                           2176            NaN  \ntop     2019-01-10 17:00:15.000 +0000            NaN  \nfreq                               10            NaN  \nmean                              NaN  268756.896392  \nstd                               NaN     130.873473  \nmin                               NaN  268540.000000  \n25%                               NaN  268640.000000  \n50%                               NaN  268760.000000  \n75%                               NaN  268871.000000  \nmax                               NaN  268985.000000  ",
      "text/html": "<div>\n<style scoped>\n    .dataframe tbody tr th:only-of-type {\n        vertical-align: middle;\n    }\n\n    .dataframe tbody tr th {\n        vertical-align: top;\n    }\n\n    .dataframe thead th {\n        text-align: right;\n    }\n</style>\n<table border=\"1\" class=\"dataframe\">\n  <thead>\n    <tr style=\"text-align: right;\">\n      <th></th>\n      <th>ID</th>\n      <th>UPDATED_AT</th>\n      <th>OBJECT_TYPE</th>\n      <th>ACTION</th>\n      <th>CREATED_AT</th>\n      <th>OBJECT_ID</th>\n    </tr>\n  </thead>\n  <tbody>\n    <tr>\n      <th>count</th>\n      <td>3.243000e+03</td>\n      <td>3243</td>\n      <td>3243</td>\n      <td>3243</td>\n      <td>3243</td>\n      <td>3243.000000</td>\n    </tr>\n    <tr>\n      <th>unique</th>\n      <td>NaN</td>\n      <td>2176</td>\n      <td>1</td>\n      <td>39</td>\n      <td>2176</td>\n      <td>NaN</td>\n    </tr>\n    <tr>\n      <th>top</th>\n      <td>NaN</td>\n      <td>2019-01-10 17:00:15.000 +0000</td>\n      <td>Property</td>\n      <td>Update</td>\n      <td>2019-01-10 17:00:15.000 +0000</td>\n      <td>NaN</td>\n    </tr>\n    <tr>\n      <th>freq</th>\n      <td>NaN</td>\n      <td>10</td>\n      <td>3243</td>\n      <td>575</td>\n      <td>10</td>\n      <td>NaN</td>\n    </tr>\n    <tr>\n      <th>mean</th>\n      <td>7.698977e+06</td>\n      <td>NaN</td>\n      <td>NaN</td>\n      <td>NaN</td>\n      <td>NaN</td>\n      <td>268756.896392</td>\n    </tr>\n    <tr>\n      <th>std</th>\n      <td>1.329680e+06</td>\n      <td>NaN</td>\n      <td>NaN</td>\n      <td>NaN</td>\n      <td>NaN</td>\n      <td>130.873473</td>\n    </tr>\n    <tr>\n      <th>min</th>\n      <td>7.398236e+06</td>\n      <td>NaN</td>\n      <td>NaN</td>\n      <td>NaN</td>\n      <td>NaN</td>\n      <td>268540.000000</td>\n    </tr>\n    <tr>\n      <th>25%</th>\n      <td>7.403832e+06</td>\n      <td>NaN</td>\n      <td>NaN</td>\n      <td>NaN</td>\n      <td>NaN</td>\n      <td>268640.000000</td>\n    </tr>\n    <tr>\n      <th>50%</th>\n      <td>7.409128e+06</td>\n      <td>NaN</td>\n      <td>NaN</td>\n      <td>NaN</td>\n      <td>NaN</td>\n      <td>268760.000000</td>\n    </tr>\n    <tr>\n      <th>75%</th>\n      <td>7.421546e+06</td>\n      <td>NaN</td>\n      <td>NaN</td>\n      <td>NaN</td>\n      <td>NaN</td>\n      <td>268871.000000</td>\n    </tr>\n    <tr>\n      <th>max</th>\n      <td>1.706314e+07</td>\n      <td>NaN</td>\n      <td>NaN</td>\n      <td>NaN</td>\n      <td>NaN</td>\n      <td>268985.000000</td>\n    </tr>\n  </tbody>\n</table>\n</div>"
     },
     "execution_count": 14,
     "metadata": {},
     "output_type": "execute_result"
    }
   ],
   "source": [
    "property_events.describe(include = 'all')"
   ],
   "metadata": {
    "collapsed": false,
    "pycharm": {
     "name": "#%%\n"
    }
   }
  },
  {
   "cell_type": "markdown",
   "source": [
    "The Property Events dataset contains the log of property changes from a CRM application for a property object\n",
    "(`object_id`), along with the `created_at` and `updated_at` timestamps (the timestamps are equal across the dataset)."
   ],
   "metadata": {
    "collapsed": false,
    "pycharm": {
     "name": "#%% md\n"
    }
   }
  },
  {
   "cell_type": "markdown",
   "source": [
    "***"
   ],
   "metadata": {
    "collapsed": false,
    "pycharm": {
     "name": "#%% md\n"
    }
   }
  },
  {
   "cell_type": "markdown",
   "source": [
    "## Solution\n",
    "\n",
    "### Technologies and Tools\n",
    "\n",
    "The solution is based on open-source technologies, with Python and SQL used for the implementation of the ELT data\n",
    "pipeline, and PostgreSQL used as the data warehouse.\n",
    "\n",
    "The tools used are IDEs for Python and SQL development, and Unix CLI.\n",
    "\n",
    "### Architecture: Prototype\n",
    "\n",
    "<img src=\"./docs/analytics_architecture__as_is.png\" alt=\"architecture\" width=\"800\"/>\n",
    "\n",
    "#### Design\n",
    "\n",
    "The following design principles are applied:\n",
    "- Separation of logic (Infra, ELT, Analytics)\n",
    "- Idempotency of operations\n",
    "- Configuration-driven runs"
   ],
   "metadata": {
    "collapsed": false
   }
  },
  {
   "cell_type": "markdown",
   "source": [
    "### Implementation\n",
    "The implementation of the solution includes:\n",
    "- Setting up the environment\n",
    "    - Database\n",
    "    - Schemas\n",
    "    - Tables\n",
    "- Implementation of the ELT pipeline\n",
    "    - Extract (already implemented)\n",
    "    - Load\n",
    "    - Transform\n",
    "- Implementation of the analytics\n",
    "    - Data marts"
   ],
   "metadata": {
    "collapsed": false
   }
  },
  {
   "cell_type": "markdown",
   "source": [
    "#### Setup environment\n",
    "\n",
    "Environment setup includes the creation of local PostgreSQL database `propertydb`."
   ],
   "metadata": {
    "collapsed": false
   }
  },
  {
   "cell_type": "code",
   "execution_count": 15,
   "outputs": [],
   "source": [
    "import sys\n",
    "sys.path.insert(0, './config')\n",
    "\n",
    "import config.db_utils as db_utils"
   ],
   "metadata": {
    "collapsed": false,
    "pycharm": {
     "name": "#%%\n"
    }
   }
  },
  {
   "cell_type": "code",
   "execution_count": 16,
   "outputs": [
    {
     "name": "stdout",
     "output_type": "stream",
     "text": [
      "Initializing the Property Analytics solution...\r\n",
      "Creating database...\r\n",
      "Done.\r\n"
     ]
    }
   ],
   "source": [
    "# Create a new PostgreSQL database `propertydb` (if not exists)\n",
    "!./config/db_init.sh"
   ],
   "metadata": {
    "collapsed": false,
    "pycharm": {
     "name": "#%%\n"
    }
   }
  },
  {
   "cell_type": "code",
   "execution_count": 17,
   "outputs": [
    {
     "name": "stdout",
     "output_type": "stream",
     "text": [
      "Connecting to the PostgreSQL database...\n",
      "PostgreSQL database version:\n",
      "('PostgreSQL 14.5 (Homebrew) on x86_64-apple-darwin20.6.0, compiled by Apple clang version 13.0.0 (clang-1300.0.29.30), 64-bit',)\n",
      "Closing database connection... \n",
      "Done.\n"
     ]
    }
   ],
   "source": [
    "# Test database connection\n",
    "db_utils.test_connection()"
   ],
   "metadata": {
    "collapsed": false,
    "pycharm": {
     "name": "#%%\n"
    }
   }
  },
  {
   "cell_type": "markdown",
   "source": [
    "#### Extract Data\n",
    "\n",
    "Data Extraction and Load are performed by exporting daily batches from data sources (Google Sheets, Google Analytics,\n",
    " MySQL) to a Data Lake (e.g. Google Cloud Storage) as CSV files.\n",
    "\n",
    " In this project, data extraction services are already implemented, and we will load data from local CSV files to the\n",
    "  DWH (PostgreSQL in this case).\n"
   ],
   "metadata": {
    "collapsed": false
   }
  },
  {
   "cell_type": "markdown",
   "source": [
    "#### Load Data\n",
    "\n",
    "To load data into the DWH, we will use schema `staging` and tables:\n",
    "- `staging.ga_sessions`\n",
    "- `staging.marketing_costs`\n",
    "- `staging.properties`\n",
    "- `staging.property_events`"
   ],
   "metadata": {
    "collapsed": false
   }
  },
  {
   "cell_type": "code",
   "execution_count": 18,
   "outputs": [],
   "source": [
    "sys.path.insert(1, './elt')\n",
    "\n",
    "import elt.db_schema as schema\n",
    "import elt.load as load"
   ],
   "metadata": {
    "collapsed": false,
    "pycharm": {
     "name": "#%%\n"
    }
   }
  },
  {
   "cell_type": "code",
   "execution_count": 19,
   "outputs": [
    {
     "name": "stdout",
     "output_type": "stream",
     "text": [
      "Creating schema `staging`...\n",
      "Done.\n"
     ]
    }
   ],
   "source": [
    "schema.create_schema(schema_name='staging')"
   ],
   "metadata": {
    "collapsed": false,
    "pycharm": {
     "name": "#%%\n"
    }
   }
  },
  {
   "cell_type": "code",
   "execution_count": 20,
   "outputs": [
    {
     "name": "stdout",
     "output_type": "stream",
     "text": [
      "Creating tables...\n",
      "Done.\n"
     ]
    }
   ],
   "source": [
    "ddl_scripts = (\n",
    "    'elt/ddl/table__staging_marketing_costs.sql',\n",
    "    'elt/ddl/table__staging_ga_sessions.sql',\n",
    "    'elt/ddl/table__staging_properties.sql',\n",
    "    'elt/ddl/table__staging_property_events.sql'\n",
    ")\n",
    "\n",
    "schema.create_tables(ddl_scripts=ddl_scripts)"
   ],
   "metadata": {
    "collapsed": false,
    "pycharm": {
     "name": "#%%\n"
    }
   }
  },
  {
   "cell_type": "code",
   "execution_count": 21,
   "outputs": [
    {
     "name": "stdout",
     "output_type": "stream",
     "text": [
      "Connecting to the database...\n",
      "Successfully connected to propertydb.\n",
      "Loading batch to table staging.marketing_costs...\n",
      "Done.\n"
     ]
    }
   ],
   "source": [
    "costs_file_path = f'{SRC_DATA_PATH}/{MARKETING_DATA}/{COSTS_FILENAME}.{SRC_FILE_EXT}'\n",
    "\n",
    "load.file_to_table(file_path=costs_file_path,\n",
    "                   schema='staging',\n",
    "                   table='marketing_costs',\n",
    "                   chunk=500)"
   ],
   "metadata": {
    "collapsed": false,
    "pycharm": {
     "name": "#%%\n"
    }
   }
  },
  {
   "cell_type": "code",
   "execution_count": 22,
   "outputs": [
    {
     "name": "stdout",
     "output_type": "stream",
     "text": [
      "Connecting to the database...\n",
      "Successfully connected to propertydb.\n",
      "Loading batch to table staging.ga_sessions...\n",
      "Done.\n"
     ]
    }
   ],
   "source": [
    "ga_file_path = f'{SRC_DATA_PATH}/{GA_DATA}/{GA_FILENAME}.{SRC_FILE_EXT}'\n",
    "\n",
    "load.file_to_table(file_path=ga_file_path,\n",
    "                   schema='staging',\n",
    "                   table='ga_sessions',\n",
    "                   chunk=1000)"
   ],
   "metadata": {
    "collapsed": false,
    "pycharm": {
     "name": "#%%\n"
    }
   }
  },
  {
   "cell_type": "code",
   "execution_count": 23,
   "outputs": [
    {
     "name": "stdout",
     "output_type": "stream",
     "text": [
      "Connecting to the database...\n",
      "Successfully connected to propertydb.\n",
      "Loading batch to table staging.properties...\n",
      "Done.\n"
     ]
    }
   ],
   "source": [
    "properties_file_path = f'{SRC_DATA_PATH}/{CRM_DATA}/{PROPERTIES_FILENAME}.{SRC_FILE_EXT}'\n",
    "\n",
    "load.file_to_table(file_path=properties_file_path,\n",
    "                   schema='staging',\n",
    "                   table='properties',\n",
    "                   chunk=100)"
   ],
   "metadata": {
    "collapsed": false,
    "pycharm": {
     "name": "#%%\n"
    }
   }
  },
  {
   "cell_type": "code",
   "execution_count": 24,
   "outputs": [
    {
     "name": "stdout",
     "output_type": "stream",
     "text": [
      "Connecting to the database...\n",
      "Successfully connected to propertydb.\n",
      "Loading batch to table staging.property_events...\n",
      "Done.\n"
     ]
    }
   ],
   "source": [
    "property_events_file_path = f'{SRC_DATA_PATH}/{CRM_DATA}/{PROPERTY_EVENTS_FILENAME}.{SRC_FILE_EXT}'\n",
    "\n",
    "load.file_to_table(file_path=property_events_file_path,\n",
    "                   schema='staging',\n",
    "                   table='property_events',\n",
    "                   chunk=500)"
   ],
   "metadata": {
    "collapsed": false,
    "pycharm": {
     "name": "#%%\n"
    }
   }
  },
  {
   "cell_type": "markdown",
   "source": [
    "#### Transform Data\n",
    "\n",
    "Data transformation is performed in schema `analytics`.\n",
    "\n",
    "The result data marts are implemented as views:\n",
    "- `analytics.periods_daily_costs`: provides the marketing costs data transformed into periods and daily costs for\n",
    "each period\n",
    "- `analytics.daily_visits`: provides counts of visits by day\n",
    "- `analytics.properties`: provides a list of properties with their conversion dates, qualification dates, and\n",
    "associated campaigns\n",
    "- `analytics.campaigns_costs`: provides total costs for each campaign"
   ],
   "metadata": {
    "collapsed": false,
    "pycharm": {
     "name": "#%% md\n"
    }
   }
  },
  {
   "cell_type": "code",
   "execution_count": 25,
   "outputs": [],
   "source": [
    "import elt.transform as transform"
   ],
   "metadata": {
    "collapsed": false,
    "pycharm": {
     "name": "#%%\n"
    }
   }
  },
  {
   "cell_type": "code",
   "execution_count": 26,
   "outputs": [
    {
     "name": "stdout",
     "output_type": "stream",
     "text": [
      "Creating schema `analytics`...\n",
      "Done.\n"
     ]
    }
   ],
   "source": [
    "schema.create_schema(schema_name='analytics')"
   ],
   "metadata": {
    "collapsed": false,
    "pycharm": {
     "name": "#%%\n"
    }
   }
  },
  {
   "cell_type": "code",
   "execution_count": 27,
   "outputs": [
    {
     "name": "stdout",
     "output_type": "stream",
     "text": [
      "Creating data marts...\n",
      "Done.\n"
     ]
    }
   ],
   "source": [
    "ddl_scripts = (\n",
    "    \"elt/ddl/view__analytics_periods_daily_costs.sql\",\n",
    "    \"elt/ddl/view__analytics_daily_visits.sql\",\n",
    "    \"elt/ddl/view__analytics_properties.sql\",\n",
    "    \"elt/ddl/view__analytics_campaigns_costs.sql\"\n",
    ")\n",
    "\n",
    "transform.create_marts(ddl_scripts=ddl_scripts)"
   ],
   "metadata": {
    "collapsed": false,
    "pycharm": {
     "name": "#%%\n"
    }
   }
  },
  {
   "cell_type": "markdown",
   "source": [
    "***"
   ],
   "metadata": {
    "collapsed": false,
    "pycharm": {
     "name": "#%% md\n"
    }
   }
  },
  {
   "cell_type": "markdown",
   "source": [
    "### Analytics\n",
    "\n",
    "Analytics consists in querying the data marts and loading the result datasets as Pandas dataframes.\n",
    "\n",
    "Each query below is intended to provide an example of one of the ways to answer the questions from the\n",
    "business."
   ],
   "metadata": {
    "collapsed": false,
    "pycharm": {
     "name": "#%% md\n"
    }
   }
  },
  {
   "cell_type": "markdown",
   "source": [
    "#### Cost per visit\n",
    "\n",
    "This section provides the queries which can help answer the following question:\n",
    "- *What is the cost per visit on a given day?*"
   ],
   "metadata": {
    "collapsed": false,
    "pycharm": {
     "name": "#%% md\n"
    }
   }
  },
  {
   "cell_type": "code",
   "execution_count": 28,
   "outputs": [],
   "source": [
    "from elt.db import connect"
   ],
   "metadata": {
    "collapsed": false,
    "pycharm": {
     "name": "#%%\n"
    }
   }
  },
  {
   "cell_type": "code",
   "execution_count": 29,
   "outputs": [
    {
     "name": "stdout",
     "output_type": "stream",
     "text": [
      "Connecting to the database...\n",
      "Successfully connected to propertydb.\n"
     ]
    }
   ],
   "source": [
    "engine = connect()"
   ],
   "metadata": {
    "collapsed": false,
    "pycharm": {
     "name": "#%%\n"
    }
   }
  },
  {
   "cell_type": "code",
   "execution_count": 30,
   "outputs": [
    {
     "data": {
      "text/plain": "   visit_date  cost_per_visit  cost_per_unique_visit\n0  2019-01-06        0.416092               0.472111",
      "text/html": "<div>\n<style scoped>\n    .dataframe tbody tr th:only-of-type {\n        vertical-align: middle;\n    }\n\n    .dataframe tbody tr th {\n        vertical-align: top;\n    }\n\n    .dataframe thead th {\n        text-align: right;\n    }\n</style>\n<table border=\"1\" class=\"dataframe\">\n  <thead>\n    <tr style=\"text-align: right;\">\n      <th></th>\n      <th>visit_date</th>\n      <th>cost_per_visit</th>\n      <th>cost_per_unique_visit</th>\n    </tr>\n  </thead>\n  <tbody>\n    <tr>\n      <th>0</th>\n      <td>2019-01-06</td>\n      <td>0.416092</td>\n      <td>0.472111</td>\n    </tr>\n  </tbody>\n</table>\n</div>"
     },
     "execution_count": 30,
     "metadata": {},
     "output_type": "execute_result"
    }
   ],
   "source": [
    "query_cost_per_visit = \\\n",
    "    \"\"\"\n",
    "    WITH\n",
    "        daily_visits_costs AS (\n",
    "            SELECT\n",
    "                v.visit_date                                        AS visit_date,\n",
    "                v.visits_per_day                                    AS visits_per_day,\n",
    "                v.unique_visits_per_day                             AS unique_visits_per_day,\n",
    "                c.period_daily_cost                                 AS period_daily_cost,\n",
    "                c.period_daily_cost / v.visits_per_day              AS period_cost_per_visit,\n",
    "                c.period_daily_cost / v.unique_visits_per_day       AS period_cost_per_unique_visit\n",
    "            FROM\n",
    "                analytics.daily_visits v\n",
    "                LEFT JOIN analytics.periods_daily_costs c\n",
    "                    ON v.visit_date BETWEEN c.date_from AND c.date_to\n",
    "        )\n",
    "    SELECT\n",
    "        visit_date                                                  AS visit_date,\n",
    "        sum(period_cost_per_visit)                                  AS cost_per_visit,\n",
    "        sum(period_cost_per_unique_visit)                           AS cost_per_unique_visit\n",
    "    FROM\n",
    "        daily_visits_costs\n",
    "    GROUP BY 1;\n",
    "    \"\"\"\n",
    "\n",
    "cost_per_visit = pd.read_sql_query(query_cost_per_visit, con=engine)\n",
    "cost_per_visit.head()"
   ],
   "metadata": {
    "collapsed": false,
    "pycharm": {
     "name": "#%%\n"
    }
   }
  },
  {
   "cell_type": "markdown",
   "source": [
    "#### Qualified properties and associated costs\n",
    "\n",
    "This section provides the queries which can help answer the following question:\n",
    "- *How many properties are qualified and what is the cost per qualified property on a given day?*"
   ],
   "metadata": {
    "collapsed": false,
    "pycharm": {
     "name": "#%% md\n"
    }
   }
  },
  {
   "cell_type": "code",
   "execution_count": 31,
   "outputs": [
    {
     "data": {
      "text/plain": "  date_qualified  cost_per_qualified_property\n0     2019-01-09                   116.241350\n1     2019-01-10                   639.380476\n2     2019-01-11                  1459.193165\n3     2019-01-12                  7229.466424\n4     2019-01-22                  2691.385754",
      "text/html": "<div>\n<style scoped>\n    .dataframe tbody tr th:only-of-type {\n        vertical-align: middle;\n    }\n\n    .dataframe tbody tr th {\n        vertical-align: top;\n    }\n\n    .dataframe thead th {\n        text-align: right;\n    }\n</style>\n<table border=\"1\" class=\"dataframe\">\n  <thead>\n    <tr style=\"text-align: right;\">\n      <th></th>\n      <th>date_qualified</th>\n      <th>cost_per_qualified_property</th>\n    </tr>\n  </thead>\n  <tbody>\n    <tr>\n      <th>0</th>\n      <td>2019-01-09</td>\n      <td>116.241350</td>\n    </tr>\n    <tr>\n      <th>1</th>\n      <td>2019-01-10</td>\n      <td>639.380476</td>\n    </tr>\n    <tr>\n      <th>2</th>\n      <td>2019-01-11</td>\n      <td>1459.193165</td>\n    </tr>\n    <tr>\n      <th>3</th>\n      <td>2019-01-12</td>\n      <td>7229.466424</td>\n    </tr>\n    <tr>\n      <th>4</th>\n      <td>2019-01-22</td>\n      <td>2691.385754</td>\n    </tr>\n  </tbody>\n</table>\n</div>"
     },
     "execution_count": 31,
     "metadata": {},
     "output_type": "execute_result"
    }
   ],
   "source": [
    "query_cost_per_qualified_property = \\\n",
    "    \"\"\"\n",
    "    WITH\n",
    "        properties_qualified AS (\n",
    "            WITH\n",
    "                properties_qualified_date AS (\n",
    "                    SELECT\n",
    "                        property_id                                 AS property_id,\n",
    "                        date(qualified_at)                          AS date_qualified\n",
    "                    FROM\n",
    "                        analytics.properties\n",
    "                    WHERE\n",
    "                        qualified_at IS NOT NULL -- only qualified\n",
    "                )\n",
    "            SELECT\n",
    "                date_qualified                                      AS date_qualified,\n",
    "                count(property_id)                                  AS properties_cnt\n",
    "            FROM\n",
    "                properties_qualified_date\n",
    "            GROUP BY 1\n",
    "        ),\n",
    "        daily_qualified_properties_costs AS (\n",
    "            SELECT\n",
    "                pq.date_qualified                                   AS date_qualified,\n",
    "                pq.properties_cnt                                   AS properties_cnt,\n",
    "                c.period_daily_cost                                 AS period_daily_cost,\n",
    "                c.period_daily_cost / pq.properties_cnt             AS period_cost_per_qualified_property\n",
    "            FROM\n",
    "                properties_qualified pq\n",
    "                LEFT JOIN analytics.periods_daily_costs c\n",
    "                    ON pq.date_qualified BETWEEN c.date_from AND c.date_to\n",
    "        )\n",
    "    SELECT\n",
    "        date_qualified                                              AS date_qualified,\n",
    "        sum(period_cost_per_qualified_property)                     AS cost_per_qualified_property\n",
    "    FROM\n",
    "        daily_qualified_properties_costs\n",
    "    GROUP BY 1\n",
    "    ORDER BY 1;\n",
    "    \"\"\"\n",
    "\n",
    "cost_per_qualified_property = pd.read_sql_query(query_cost_per_qualified_property, con=engine)\n",
    "cost_per_qualified_property.head(5)"
   ],
   "metadata": {
    "collapsed": false,
    "pycharm": {
     "name": "#%%\n"
    }
   }
  },
  {
   "cell_type": "markdown",
   "source": [
    "#### Conversions and costs of marketing campaigns\n",
    "\n",
    "This section provides the queries which can help answer the following question:\n",
    "- *How many conversions are acquired and what is the cost of a given marketing campaign?*"
   ],
   "metadata": {
    "collapsed": false,
    "pycharm": {
     "name": "#%% md\n"
    }
   }
  },
  {
   "cell_type": "code",
   "execution_count": 32,
   "outputs": [
    {
     "data": {
      "text/plain": "                                  campaign  converted_properties  \\\n0      HD_TB_DE_RH_DT_SLIDER_LOHNT-VERKAUF                   100   \n1                         Immo_Verkauf_2.0                     7   \n2      HD_PL_DE_RH_DT_SLIDER_LOHNT-VERKAUF                    17   \n3           HD_PL_RH_MB_CONTENT_TODSUENDEN                     3   \n4  HD_TB_DE_RH_DT_APP-SLIDER_LOHNT-VERKAUF                     3   \n5  HD_OB_DE_RH_DT_APP-SLIDER_LOHNT-VERKAUF                     1   \n6      HD_OB_DE_RT_DT_SLIDER_LOHNT-VERKAUF                     4   \n7        HD_PL_DE_RH_DT_CONTENT_TODSUENDEN                    11   \n8        HD_TB_DE_RH_DT_SLIDER_PLZ-EINGABE                     1   \n9                      Maklerprovision_1.0                     2   \n\n   campaign_cost  \n0     58152.3468  \n1     25304.2000  \n2     24470.8000  \n3     15992.4000  \n4     13584.0696  \n5     13449.9400  \n6     12684.8100  \n7     12469.9000  \n8     11932.3208  \n9      9503.6000  ",
      "text/html": "<div>\n<style scoped>\n    .dataframe tbody tr th:only-of-type {\n        vertical-align: middle;\n    }\n\n    .dataframe tbody tr th {\n        vertical-align: top;\n    }\n\n    .dataframe thead th {\n        text-align: right;\n    }\n</style>\n<table border=\"1\" class=\"dataframe\">\n  <thead>\n    <tr style=\"text-align: right;\">\n      <th></th>\n      <th>campaign</th>\n      <th>converted_properties</th>\n      <th>campaign_cost</th>\n    </tr>\n  </thead>\n  <tbody>\n    <tr>\n      <th>0</th>\n      <td>HD_TB_DE_RH_DT_SLIDER_LOHNT-VERKAUF</td>\n      <td>100</td>\n      <td>58152.3468</td>\n    </tr>\n    <tr>\n      <th>1</th>\n      <td>Immo_Verkauf_2.0</td>\n      <td>7</td>\n      <td>25304.2000</td>\n    </tr>\n    <tr>\n      <th>2</th>\n      <td>HD_PL_DE_RH_DT_SLIDER_LOHNT-VERKAUF</td>\n      <td>17</td>\n      <td>24470.8000</td>\n    </tr>\n    <tr>\n      <th>3</th>\n      <td>HD_PL_RH_MB_CONTENT_TODSUENDEN</td>\n      <td>3</td>\n      <td>15992.4000</td>\n    </tr>\n    <tr>\n      <th>4</th>\n      <td>HD_TB_DE_RH_DT_APP-SLIDER_LOHNT-VERKAUF</td>\n      <td>3</td>\n      <td>13584.0696</td>\n    </tr>\n    <tr>\n      <th>5</th>\n      <td>HD_OB_DE_RH_DT_APP-SLIDER_LOHNT-VERKAUF</td>\n      <td>1</td>\n      <td>13449.9400</td>\n    </tr>\n    <tr>\n      <th>6</th>\n      <td>HD_OB_DE_RT_DT_SLIDER_LOHNT-VERKAUF</td>\n      <td>4</td>\n      <td>12684.8100</td>\n    </tr>\n    <tr>\n      <th>7</th>\n      <td>HD_PL_DE_RH_DT_CONTENT_TODSUENDEN</td>\n      <td>11</td>\n      <td>12469.9000</td>\n    </tr>\n    <tr>\n      <th>8</th>\n      <td>HD_TB_DE_RH_DT_SLIDER_PLZ-EINGABE</td>\n      <td>1</td>\n      <td>11932.3208</td>\n    </tr>\n    <tr>\n      <th>9</th>\n      <td>Maklerprovision_1.0</td>\n      <td>2</td>\n      <td>9503.6000</td>\n    </tr>\n  </tbody>\n</table>\n</div>"
     },
     "execution_count": 32,
     "metadata": {},
     "output_type": "execute_result"
    }
   ],
   "source": [
    "query_campaign_conversions_costs = \\\n",
    "    \"\"\"\n",
    "    WITH\n",
    "        properties_converted AS (\n",
    "            WITH\n",
    "                properties_converted_campaign AS (\n",
    "                    SELECT\n",
    "                        property_id                                 AS property_id,\n",
    "                        campaign                                    AS campaign\n",
    "                    FROM\n",
    "                        analytics.properties\n",
    "                )\n",
    "            SELECT\n",
    "                campaign                                            AS campaign,\n",
    "                count(property_id)                                  AS properties_cnt\n",
    "            FROM\n",
    "                properties_converted_campaign\n",
    "            GROUP BY 1\n",
    "        )\n",
    "    SELECT\n",
    "        pc.campaign                                                 AS campaign,\n",
    "        pc.properties_cnt                                           AS converted_properties,\n",
    "        cc.total_cost                                               AS campaign_cost\n",
    "    FROM\n",
    "        properties_converted pc\n",
    "        LEFT JOIN analytics.campaigns_costs cc\n",
    "            ON pc.campaign = cc.campaign\n",
    "    WHERE\n",
    "        cc.total_cost IS NOT NULL\n",
    "    ORDER BY\n",
    "        cc.total_cost DESC;\n",
    "    \"\"\"\n",
    "\n",
    "campaign_conversions_costs = pd.read_sql_query(query_campaign_conversions_costs, con=engine)\n",
    "campaign_conversions_costs.head(10)"
   ],
   "metadata": {
    "collapsed": false,
    "pycharm": {
     "name": "#%%\n"
    }
   }
  },
  {
   "cell_type": "markdown",
   "source": [
    "The biggest issue with the data is its quality.\n",
    "For example, for many marketing costs, there is no campaign specified. To deal with this issue, each such cost is\n",
    "marked as a `default_campaign`.\n",
    "Another example is missing campaign in the `properties` dataset. This is a way how the producer of this data could\n",
    "improve it for analytics."
   ],
   "metadata": {
    "collapsed": false,
    "pycharm": {
     "name": "#%% md\n"
    }
   }
  },
  {
   "cell_type": "markdown",
   "source": [
    "## Evolution\n",
    "This project can be viewed as a prototype of a production solution. The evolved solution would require the following roles:\n",
    "- Data Engineer\n",
    "- Analytics Engineer\n",
    "- Data Analyst / BI Developer\n",
    "\n",
    "From the solution engineering viewpoint, the following concepts of Modern Data Platform should be taken into\n",
    "condideration:\n",
    "- Cloud DWH, Data Lake, Data LakeHouse\n",
    "    - Cloud DWH\n",
    "        - Redshift\n",
    "        - BigQuery\n",
    "        - Snowflake\n",
    "    - Data Lake\n",
    "        - S3\n",
    "        - Google Cloud Storage\n",
    "    - Data LakeHouse\n",
    "        - Databricks\n",
    "- Data modeling\n",
    "    - Snowflake\n",
    "    - Star schema\n",
    "    - Data Vault\n",
    "    - Anchor modeling\n",
    "    - Activity Schema\n",
    "- ELT tools\n",
    "    - Job orchestration and scheduling, e.g. Airflow\n",
    "    - MPP, e.g. Spark\n",
    "    - Modern data transformation tool, e.g. dbt\n",
    "- DataViz tools\n",
    "    - BI tools of choice, e.g. Tableau, Superset, Metabase, Google Looker Studio\n",
    "- DevOps\n",
    "    - Containerization for deployments, e.g. Docker\n",
    "    - CI/CD solution, e.g. git + Docker + k8s + Jenkins\n",
    "- AI stack\n",
    "    - ML tasks\n",
    "    - ML data pipelines and MLOps\n",
    "- Data Observability\n",
    "    - Monitoring and Logging\n",
    "        - Specialized toolset, e.g. ELK stack\n",
    "    - Data Quality\n",
    "        - Modern DQ tools, e.g. great_expectations\n",
    "    - Data Catalog\n",
    "        - A data catalog solution, e.g. dbt + DataHub\n",
    "    - FinOps\n",
    "        - Monitoring and optimization of cloud costs"
   ],
   "metadata": {
    "collapsed": false,
    "pycharm": {
     "name": "#%% md\n"
    }
   }
  },
  {
   "cell_type": "markdown",
   "source": [
    "### Architecture\n",
    "\n",
    "<img src=\"./docs/analytics_architecture__to_be.png\" alt=\"architecture\" width=\"800\"/>\n",
    "\n",
    "A few points on the suggested architecture:\n",
    "- A cloud object storage (**Amazon S3**, **Google Cloud Storage**) can be used as the Data Lake. This will enable\n",
    "distributed data storage with bucket access and retention configuration.\n",
    "- **Apache Parquet** can be used a the data format for better performance, especially for large datasets.\n",
    "- **Apache Airflow** can be used as the orchestrator and scheduler of ELT data pipelines. This will improve further\n",
    "implementation and maintenance of data extraction, load, and transformation flows.\n",
    "- **Snowflake** can be used as the cloud-based DWH built on top of the data files stored in a cloud storage.\n",
    "- **dbt** can be used for SQL-based data transformations. It will enable applying modern software engineering\n",
    "practices to data modeling, data transformations, analytics marts development, data cataloging.\n",
    "- **VS Code** IDE currently provides the best support for dbt-driven development.\n",
    "- **Tableau** is one of the most popular and feature-rich BI tool.\n",
    "\n",
    "Potential disadvantages:\n",
    "- Vendor lock (Google, Amazon, Snowflake)\n",
    "- Cloud costs"
   ],
   "metadata": {
    "collapsed": false
   }
  },
  {
   "cell_type": "markdown",
   "source": [
    "***"
   ],
   "metadata": {
    "collapsed": false,
    "pycharm": {
     "name": "#%% md\n"
    }
   }
  },
  {
   "cell_type": "markdown",
   "source": [
    "### Query optimization\n",
    "This section contains SQL query with performance issues observed.\n",
    "A few comments are added to highlight problematic parts and ways to handle them."
   ],
   "metadata": {
    "collapsed": false
   }
  },
  {
   "cell_type": "code",
   "execution_count": 33,
   "outputs": [],
   "source": [
    "query_not_so_optimal = \\\n",
    "    \"\"\"\n",
    "    WITH\n",
    "        LEAD_EVENTS AS\n",
    "        (\n",
    "            SELECT DISTINCT\n",
    "                UID AS TOUCHPOINT_ID\n",
    "            FROM\n",
    "                SSTAR.FACT.GA_EVENTS\n",
    "            WHERE\n",
    "                (IS_LEAD OR IS_PROPERTY_CONTACT OR IS_RESELL)\n",
    "            GROUP BY UID  -- does not make sense here (DISTINCT, no aggregations), expensive operation\n",
    "            HAVING UID IS NOT NULL  -- this condition can be added to the WHERE clause\n",
    "        ),\n",
    "\n",
    "        TOUCHPOINT_ATTRIBUTION AS\n",
    "        (\n",
    "            SELECT\n",
    "\t            PROPERTY_ID,\n",
    "                CASE\n",
    "                    WHEN UTM_SOURCE LIKE ‘%homeday%’  -- LIKE should be avoided in production, it's slow\n",
    "                    THEN concat(UTM_SOURCE, TOUCHPOINT_ID)\n",
    "                END AS HOMEDAY_SOURCE,\n",
    "                TOUCHPOINT_ID,\n",
    "                TOUCHPOINT_VALUE\n",
    "            FROM\n",
    "                MLOGIC.ATTR.PATH_TOUCHPOINTS\n",
    "        )\n",
    "\n",
    "    SELECT\n",
    "        * -- not a good practice, brings ambiguity, makes debugging harder\n",
    "    FROM\n",
    "\t( -- should be a CTE to follow the modularity principle and improve maintenance\n",
    "\t    SELECT\n",
    "\t\t    SE.TOUCHPOINT_ID,\n",
    "\t\t\tSE.TOUCHPOINT_DATE,\n",
    "\t\t\tCOALESCE(AC.COST_VAR_PER_SESSION, 0)  + COALESCE(MC.COST_VAR_PER_SESSION, 0) AS COST_VAR_PER_SESSION,\n",
    "\t\t\tCOALESCE(AC.COST_FIX_PER_SESSION, 0)  + COALESCE(MC.COST_FIX_PER_SESSION, 0) AS COST_FIX_PER_SESSION\n",
    "\t\tFROM\n",
    "\t\t    -- not a good practice, may result in cross joins\n",
    "\t\t    MLOGIC.ATTR.MARKETING_TOUCHPOINTS SE,\n",
    "\t\t    MLOGIC.COST.AD_COST_DISTRIBUTION AC,\n",
    "\t\t    MLOGIC.COST.SOURCE_MEDIUM_COST_DISTRIBUTION MC\n",
    "\t\tWHERE\n",
    "\t\t    SE.TOUCHPOINT_DATE = AC.TOUCHPOINT_DATE\n",
    "\t\t\tAND SE.AD_ID = AC.AD_ID\n",
    "\t\t\tAND SE.TOUCHPOINT_DATE = MC.TOUCHPOINT_DATE\n",
    "\t\t\tAND SE.MEDIUM_ID = MC.MEDIUM_ID\n",
    "\t\t\tAND SE.TOUCHPOINT_ID NOT IN\n",
    "\t\t\t    (SELECT * FROM LEAD_EVENTS ) -- * is a potential issue if the referenced CTE is extended\n",
    "\t) AS T  -- a semantically correct name would be better\n",
    "    LEFT JOIN TOUCHPOINT_ATTRIBUTION TA\n",
    "        ON TA.TOUCHPOINT_ID = T.TOUCHPOINT_ID\n",
    "        AND T.TOUCHPOINT_DATE >= CURRENT_DATE -- replace with '=' ('>' is always True), move the filter into CTE\n",
    "    WHERE\n",
    "        TA.TOUCHPOINT_VALUE > 0.5 -- makes sense to pushdown the filter to the CTE\n",
    "    \"\"\""
   ],
   "metadata": {
    "collapsed": false,
    "pycharm": {
     "name": "#%%\n"
    }
   }
  },
  {
   "cell_type": "markdown",
   "source": [
    "***"
   ],
   "metadata": {
    "collapsed": false,
    "pycharm": {
     "name": "#%% md\n"
    }
   }
  },
  {
   "cell_type": "markdown",
   "source": [
    "### Change Management\n",
    "This section describes an approach to planning the implementation of system features to support a new business case.\n",
    "\n",
    "#### Business Context\n",
    "According to the business needs, the following new cases should be supported:\n",
    "- Property sold\n",
    "- Property lost\n",
    "- Commission received\n",
    "\n",
    "Business stakeholders need:\n",
    " - Insights related to property revenue\n",
    "\n",
    "#### Planning\n",
    "1. Identify the sources of data and structure:\n",
    "    - Sold properties: events with timestamps, property identifiers, selling price, commission received\n",
    "    - Lost properties: events with timestamps, property identifiers, lost reasons\n",
    "2. Extend ELT features\n",
    "    - Extract: implement or update existing data extraction routines\n",
    "    - Load: implement or update existing routines for loading data to:\n",
    "        - `staging.property_events`\n",
    "        - `staging.*` (new table in case of a new data source)\n",
    "    - Transform: implement the logic of transforming the data\n",
    "3. Update analytics data marts:\n",
    "    - Extend `analytics.properties`: implement logic and add fields `sold_at`, `lost_at`, `lost_reason`\n",
    "    - Implement `analytics.commissions`: implement logic and add fields `price`, `commission`\n",
    "4. Deploy and test ELT in a sandbox environment on a sample of data\n",
    "5. Deploy and test ELT in production environment\n",
    "6. Update BI reports and dashboards\n",
    "7. Update Data Catalog"
   ],
   "metadata": {
    "collapsed": false
   }
  },
  {
   "cell_type": "markdown",
   "source": [],
   "metadata": {
    "collapsed": false,
    "pycharm": {
     "name": "#%% md\n"
    }
   }
  }
 ],
 "metadata": {
  "kernelspec": {
   "display_name": "Python 3",
   "language": "python",
   "name": "python3"
  },
  "language_info": {
   "codemirror_mode": {
    "name": "ipython",
    "version": 2
   },
   "file_extension": ".py",
   "mimetype": "text/x-python",
   "name": "python",
   "nbconvert_exporter": "python",
   "pygments_lexer": "ipython2",
   "version": "2.7.6"
  }
 },
 "nbformat": 4,
 "nbformat_minor": 0
}